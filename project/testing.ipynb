{
 "cells": [
  {
   "cell_type": "code",
   "execution_count": 1,
   "id": "f2876e8e",
   "metadata": {},
   "outputs": [],
   "source": [
    "import sys, os\n",
    "sys.path.insert(0, os.path.abspath(\"..\"))\n",
    "from init_env import set_project_root\n",
    "project_root = set_project_root()"
   ]
  },
  {
   "cell_type": "code",
   "execution_count": 2,
   "id": "2112dad2",
   "metadata": {},
   "outputs": [],
   "source": [
    "import numpy as np\n",
    "import project.problems.project_problems as functions\n",
    "import algorithms as algorithms\n",
    "from optSolver import optSolver\n",
    "\n",
    "import scipy.io\n",
    "import matplotlib.pyplot as plt\n",
    "\n",
    "\n",
    "# Define three class objects required in 'optSolver' and their attributes \n",
    "\n",
    "class Problem:\n",
    "    def __init__(self, name, x0):\n",
    "        self.name = name\n",
    "        self.x0 = x0\n",
    "        self.n = len(x0)\n",
    "        match name:\n",
    "            case \"quad_10_10\":\n",
    "                self.compute_f = functions.quad_10_10_func\n",
    "                self.compute_g = functions.quad_10_10_grad\n",
    "                self.compute_H = functions.quad_10_10_Hess\n",
    "            case \"quad_10_1000\":\n",
    "                self.compute_f = functions.quad_10_1000_func\n",
    "                self.compute_g = functions.quad_10_1000_grad\n",
    "                self.compute_H = functions.quad_10_1000_Hess\n",
    "            case \"quad_1000_10\":\n",
    "                self.compute_f = functions.quad_1000_10_func\n",
    "                self.compute_g = functions.quad_1000_10_grad\n",
    "                self.compute_H = functions.quad_1000_10_Hess\n",
    "            case \"quad_1000_1000\":\n",
    "                self.compute_f = functions.quad_1000_1000_func\n",
    "                self.compute_g = functions.quad_1000_1000_grad\n",
    "                self.compute_H = functions.quad_1000_1000_Hess\n",
    "            case \"quartic_1\":\n",
    "                self.compute_f = functions.quartic_1_func\n",
    "                self.compute_g = functions.quartic_1_grad\n",
    "                self.compute_H = functions.quartic_1_Hess\n",
    "            case \"quartic_2\":\n",
    "                self.compute_f = functions.quartic_2_func\n",
    "                self.compute_g = functions.quartic_2_grad\n",
    "                self.compute_H = functions.quartic_2_Hess\n",
    "            case \"rosenbrock_2\":\n",
    "                self.compute_f = functions.rosenbrock_2_func\n",
    "                self.compute_g = functions.rosenbrock_2_grad\n",
    "                self.compute_H = functions.rosenbrock_2_Hess\n",
    "            case \"rosenbrock_100\":\n",
    "                self.compute_f = functions.rosenbrock_100_func\n",
    "                self.compute_g = functions.rosenbrock_100_grad\n",
    "                self.compute_H = functions.rosenbrock_100_Hess\n",
    "            case \"datafit_2\":\n",
    "                self.compute_f = functions.datafit_2_func\n",
    "                self.compute_g = functions.datafit_2_grad\n",
    "                self.compute_H = functions.datafit_2_Hess\n",
    "            case \"exponential\":\n",
    "                self.compute_f = functions.exponential_func\n",
    "                self.compute_g = functions.exponential_grad\n",
    "                self.compute_H = functions.exponential_Hess\n",
    "            case \"genhumps_5\":\n",
    "                self.compute_f = functions.genhumps_5_func\n",
    "                self.compute_g = functions.genhumps_5_grad\n",
    "                self.compute_H = functions.genhumps_5_Hess\n",
    "\n",
    "            case _:\n",
    "                raise ValueError(\"problem not defined!!!\")\n",
    "        \n",
    "class Method:\n",
    "    def __init__(self, name, **options):\n",
    "        self.name = name\n",
    "        self.options = options\n",
    "        \n",
    "class Options:\n",
    "    def __init__(self,term_tol=1e-6, max_iterations=1e2):\n",
    "        self.term_tol = term_tol\n",
    "        self.max_iterations = max_iterations  \n",
    "\n",
    "def plot_f_vs_iter(history):\n",
    "    # Plot training and testing accuracy vs gradient evaluations\n",
    "    plt.figure()\n",
    "    plt.plot(history['iterations'], history['f'])\n",
    "    plt.xlabel('iteration')\n",
    "    plt.ylabel('f')\n",
    "    plt.title(f'')\n",
    "    plt.grid()"
   ]
  },
  {
   "cell_type": "code",
   "execution_count": 4,
   "id": "b4676112",
   "metadata": {},
   "outputs": [
    {
     "name": "stdout",
     "output_type": "stream",
     "text": [
      "Number of skipped steps (TRSR1CG): 79\n",
      "2.0102456190801257\n"
     ]
    },
    {
     "data": {
      "image/png": "[encoded data removed]",
      "text/plain": [
       "<Figure size 640x480 with 1 Axes>"
      ]
     },
     "metadata": {},
     "output_type": "display_data"
    }
   ],
   "source": [
    "problem = Problem(\"rosenbrock_2\", x0=np.array([-1.2, 1]))\n",
    "method = Method(\"TRSR1CG\", step_type=\"Backtracking\", alpha=1, tau=0.5,\n",
    "                c_1_ls=1e-4, c_1_tr=0.8, c_2_tr=0.5, epsilon_sy=1e-8, term_tol_CG=1e-6, )\n",
    "options = Options(term_tol=1e-6, max_iterations=1e2)\n",
    "\n",
    "x, f, history = optSolver(problem, method, options)\n",
    "print(f)\n",
    "plot_f_vs_iter(history)"
   ]
  },
  {
   "cell_type": "code",
   "execution_count": null,
   "metadata": {},
   "outputs": [],
   "source": []
  }
 ],
 "metadata": {
  "kernelspec": {
   "display_name": "eecs445",
   "language": "python",
   "name": "python3"
  },
  "language_info": {
   "codemirror_mode": {
    "name": "ipython",
    "version": 3
   },
   "file_extension": ".py",
   "mimetype": "text/x-python",
   "name": "python",
   "nbconvert_exporter": "python",
   "pygments_lexer": "ipython3",
   "version": "3.11.7"
  }
 },
 "nbformat": 4,
 "nbformat_minor": 5
}
