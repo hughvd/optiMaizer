{
 "cells": [
  {
   "cell_type": "code",
   "execution_count": null,
   "id": "776e1677",
   "metadata": {},
   "outputs": [],
   "source": [
    "# Set up path for importing modules\n",
    "import sys, os\n",
    "sys.path.insert(0, os.path.abspath(\"..\"))\n",
    "from init_env import set_project_root\n",
    "project_root = set_project_root()\n",
    "\n",
    "# Imports\n",
    "import numpy as np\n",
    "import algorithmsML as algorithms\n",
    "import functionsML as functions\n",
    "from optSolverML import optSolver\n",
    "\n",
    "import scipy.io"
   ]
  },
  {
   "cell_type": "code",
   "execution_count": 19,
   "id": "52732e8f",
   "metadata": {},
   "outputs": [],
   "source": [
    "# Define three class objects required in 'optSolver' and their attributes \n",
    "\n",
    "class Problem:\n",
    "    def __init__(self, name, w0, X_train, y_train, X_test, y_test):\n",
    "        self.name = name\n",
    "        self.w0 = w0\n",
    "        self.X_train = X_train\n",
    "        self.X_test = X_test\n",
    "        self.y_train = y_train\n",
    "        self.y_test = y_test\n",
    "        match name:\n",
    "            case \"LinearLeastSquares\":\n",
    "                self.compute_f = functions.linear_least_squares_func\n",
    "                self.compute_g = functions.linear_least_squares_grad\n",
    "                self.compute_f_g = functions.linear_least_squares_func_grad\n",
    "                self.predict = functions.linear_least_squares_predict\n",
    "            case \"LogisticRegression\": \n",
    "                # Lambda function so I only need to pass x\n",
    "                self.compute_f = functions.logistic_regression_func\n",
    "                self.compute_g = functions.logistic_regression_grad\n",
    "                self.compute_f_g = functions.logistic_regression_func_grad\n",
    "                self.predict = functions.logistic_regression_predict\n",
    "            case _:\n",
    "                raise ValueError(\"problem not defined!!!\")\n",
    "            \n",
    "class Method:\n",
    "    def __init__(self, name, **options):\n",
    "        self.name = name\n",
    "        self.options = options\n",
    "        \n",
    "class Options:\n",
    "    def __init__(self,term_tol=1e-6, max_iterations=1e2):\n",
    "        self.term_tol = term_tol\n",
    "        self.max_iterations = max_iterations  "
   ]
  },
  {
   "cell_type": "markdown",
   "id": "3475d6be",
   "metadata": {},
   "source": [
    "# Australian Analysis"
   ]
  },
  {
   "cell_type": "code",
   "execution_count": null,
   "id": "675e9dbd",
   "metadata": {},
   "outputs": [],
   "source": [
    "# Load the data\n",
    "australian = scipy.io.loadmat(project_root / 'hw4/data/australian.mat')"
   ]
  },
  {
   "cell_type": "markdown",
   "id": "18266b92",
   "metadata": {},
   "source": [
    "# Mushroom Analysis"
   ]
  },
  {
   "cell_type": "code",
   "execution_count": null,
   "id": "096aea4a",
   "metadata": {},
   "outputs": [],
   "source": [
    "# Load the data\n",
    "mushroom = scipy.io.loadmat(project_root / \"hw4/data/mushroom.mat\")\n",
    "\n",
    "X_train = australian['X_train']\n",
    "X_test = australian['X_test']\n",
    "\n",
    "y_train = australian['y_train']\n",
    "y_test = australian['y_test']"
   ]
  },
  {
   "cell_type": "markdown",
   "id": "77d66980",
   "metadata": {},
   "source": [
    "## Linear Least Squares"
   ]
  },
  {
   "cell_type": "code",
   "execution_count": null,
   "id": "2e3a1089",
   "metadata": {},
   "outputs": [],
   "source": [
    "problem = Problem('LinearLeastSquares', w0=np.zeros((X_train.shape[1], 1)), \n",
    "                  X_train=X_train, y_train=y_train, X_test=X_test, y_test=y_test)\n",
    "method = Method('GradientDescent', step_type='Constant', constant_step_size=1e-3)\n",
    "options = Options(term_tol=1e-6, max_iterations=1e3)"
   ]
  }
 ],
 "metadata": {
  "kernelspec": {
   "display_name": "global",
   "language": "python",
   "name": "python3"
  },
  "language_info": {
   "codemirror_mode": {
    "name": "ipython",
    "version": 3
   },
   "file_extension": ".py",
   "mimetype": "text/x-python",
   "name": "python",
   "nbconvert_exporter": "python",
   "pygments_lexer": "ipython3",
   "version": "3.12.3"
  }
 },
 "nbformat": 4,
 "nbformat_minor": 5
}
